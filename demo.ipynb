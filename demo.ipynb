{
 "cells": [
  {
   "cell_type": "markdown",
   "metadata": {},
   "source": [
    "# Common Python Mistakes\n",
    "\n",
    "This notebook contains 3 common mistakes made by both Python developers, as well as Data Scientists. This notebook is written not only to demonstrate these issues, but also to show how they may be fixed."
   ]
  },
  {
   "cell_type": "markdown",
   "metadata": {},
   "source": [
    "# Late Binding Closures\n",
    "\n",
    "A closure in Python is a function object that has access to variables from its enclosing lexical scope, even when the function is called outside that scope. These variables are \"closed over\" by the closure, which is why it's called a \"closure\". Closures \"remember\" the values of these variables, even if they no longer exist in memory.\n",
    "\n",
    "The term \"late binding\" refers to the time at which a variable name is looked up to find the variable's actual value. In Python, this lookup happens when the variable is used (i.e., when the closure is called), not when the function is defined - hence it's \"late\". This is why closures in Python capture the variables themselves, not their values at the time the function is defined."
   ]
  },
  {
   "cell_type": "code",
   "execution_count": null,
   "metadata": {},
   "outputs": [],
   "source": [
    "def times_table():\n",
    "    \"\"\"\n",
    "    Returns a list of functions that will give you\n",
    "    the times table.\n",
    "\n",
    "    >>> [f(5) for f in times_table()]\n",
    "    >>> [0, 5, 10, 15, 20, 25, 30, 35, 40, 45]\n",
    "    \"\"\"\n",
    "    table = []\n",
    "    for i in range(10):\n",
    "        def multiplier(x):  # This is a closure, because it has access to its outer lexical scope\n",
    "            return i * x  # lookup for the variable i happens when the variable is used, not when it defined.\n",
    "\n",
    "        table.append(multiplier)\n",
    "\n",
    "    return table"
   ]
  },
  {
   "cell_type": "code",
   "execution_count": null,
   "metadata": {},
   "outputs": [],
   "source": [
    "[f(5) for f in times_table()]"
   ]
  },
  {
   "cell_type": "code",
   "execution_count": null,
   "metadata": {},
   "outputs": [],
   "source": [
    "import argparse\n",
    "import os\n",
    "\n",
    "import numpy as np\n",
    "from PIL import Image\n",
    "from scipy.ndimage import gaussian_filter\n",
    "\n",
    "from IPython.display import display\n",
    "\n",
    "SIGMAS = list(range(1, 10))\n",
    "\n",
    "\n",
    "def create_pipeline(*operations):\n",
    "    def pipeline(data):\n",
    "        for operation in operations:\n",
    "            data = operation(data)\n",
    "        return data\n",
    "\n",
    "    return pipeline\n",
    "\n",
    "\n",
    "def normalize(image):\n",
    "    return image / 255\n",
    "\n",
    "\n",
    "def add_noise(image, mean=0, std=0.1):\n",
    "    noise = np.random.normal(mean, std, image.shape)\n",
    "    return np.clip(image + noise, 0, 1)\n",
    "\n",
    "\n",
    "def transform_image(image_path):\n",
    "    # Open the image and convert to grayscale\n",
    "    image = Image.open(image_path).convert(\"L\")\n",
    "    image_np = np.array(image)\n",
    "\n",
    "    # Create blur operations with different sigma values\n",
    "    blur_operations = [(lambda image: gaussian_filter(image, sigma+1)) for sigma in SIGMAS]\n",
    "\n",
    "    # Create our pipeline with these operations\n",
    "    operations = [normalize, add_noise] + blur_operations\n",
    "    pipeline = create_pipeline(*operations)\n",
    "\n",
    "    # Apply it to our image\n",
    "    processed_image_np = pipeline(image_np)\n",
    "\n",
    "    # Convert back to the range 0-255 and PIL Image object\n",
    "    processed_image_np = np.clip(processed_image_np * 255, 0, 255).astype(np.uint8)\n",
    "    processed_image = Image.fromarray(processed_image_np)\n",
    "    display(processed_image)\n"
   ]
  },
  {
   "cell_type": "code",
   "execution_count": null,
   "metadata": {},
   "outputs": [],
   "source": [
    "transform_image('./image.png')"
   ]
  },
  {
   "cell_type": "markdown",
   "metadata": {},
   "source": [
    "In the example given, binding `sigma` too late can cause problems. It shows the big difference between using it as an argument inside the lambda and just passing it in from the outside. This function's goal is to make the image a bit blurry, but what happens is the image becomes totally blurry. This small image-changing function shows how forgetting about late bindings in closures can create big issues. Often, we realize these issues when it's already too late to fix them easily."
   ]
  },
  {
   "cell_type": "markdown",
   "metadata": {},
   "source": [
    "# Mutable Default Arguments\n",
    "\n",
    "In Python, default arguments are evaluated only once, during function definition. This means that mutable objects, like lists or dictionaries, used as default arguments retain their state between function calls.\n",
    "\n",
    "When you define a function with a mutable default argument, like this:"
   ]
  },
  {
   "cell_type": "code",
   "execution_count": null,
   "metadata": {},
   "outputs": [],
   "source": [
    "def add_item(item, items=[]):\n",
    "    \"\"\"\n",
    "    A function that adds an item to an existing list.\n",
    "    If a list is not provided, it creates a new item\n",
    "    with that list added.\n",
    "    \"\"\"\n",
    "    items.append(item)\n",
    "    return items"
   ]
  },
  {
   "cell_type": "code",
   "execution_count": null,
   "metadata": {},
   "outputs": [],
   "source": [
    "v = add_item(1)\n",
    "print(add_item(2))\n",
    "print(add_item(3))\n",
    "print(add_item(4))\n",
    "print(v)\n",
    "\n",
    "a = add_item(5)"
   ]
  },
  {
   "cell_type": "markdown",
   "metadata": {},
   "source": [
    "The default argument items is initialized as an empty list only when the function is defined. Subsequent calls to the function using the default argument will refer to the same list object, which retains its state across function calls, as showin in the output above."
   ]
  },
  {
   "cell_type": "markdown",
   "metadata": {},
   "source": [
    "# Integer Caching\n",
    "\n",
    "Althoug the `is` operator can seem like it serves the same function as the `==` operator, they are different. The `is` operator checks for identity, not equality. This means that `a is b` checks whether `a` and `b` refer to the exact same object in memory, not whether `a` and `b` have the same value."
   ]
  },
  {
   "cell_type": "markdown",
   "metadata": {},
   "source": [
    "This might seem obvious, but it can lead to some surprises due to Python's optimization for small integers and interned strings:"
   ]
  },
  {
   "cell_type": "code",
   "execution_count": null,
   "metadata": {},
   "outputs": [],
   "source": [
    "def something():\n",
    "\n",
    "    a = 10\n",
    "\n",
    "    print(a == 10)\n",
    "    print(a is 10)\n",
    "\n",
    "    c = 123456\n",
    "\n",
    "    print(c == 123456)\n",
    "    print(c is 123456)\n",
    "\n",
    "something()\n"
   ]
  },
  {
   "cell_type": "markdown",
   "metadata": {},
   "source": [
    "In general, it's best to use is when you want to check object identity (i.e., whether two variables refer to the exact same object), and `==` when you want to compare values."
   ]
  }
 ],
 "metadata": {
  "kernelspec": {
   "display_name": ".venv",
   "language": "python",
   "name": "python3"
  },
  "language_info": {
   "codemirror_mode": {
    "name": "ipython",
    "version": 3
   },
   "file_extension": ".py",
   "mimetype": "text/x-python",
   "name": "python",
   "nbconvert_exporter": "python",
   "pygments_lexer": "ipython3",
   "version": "3.11.1"
  },
  "orig_nbformat": 4
 },
 "nbformat": 4,
 "nbformat_minor": 2
}
